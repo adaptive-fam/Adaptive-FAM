{
 "cells": [
  {
   "cell_type": "code",
   "execution_count": null,
   "id": "a6651fe4",
   "metadata": {},
   "outputs": [],
   "source": [
    "import matplotlib.pyplot as plt\n",
    "import numpy as np\n",
    "import os\n",
    "import shutil\n",
    "from tqdm import tqdm\n",
    "from array import array\n",
    "from utility import *"
   ]
  },
  {
   "cell_type": "markdown",
   "id": "31d0bfec",
   "metadata": {},
   "source": [
    "# Adaptive-FAM\n",
    "Encode large amount multi-resolution micro-blocks into micro-models using function approximation. Using Flame dataset as a input, same process applies to other datasets. Multi-resolution LOD is set as 4. Function approximation degree is set 2."
   ]
  },
  {
   "cell_type": "markdown",
   "id": "a24ed888",
   "metadata": {},
   "source": [
    "## 1. Create Micro-blocks\n",
    "Partition input dataset into multi-resolution micro-blocks with 4 levels of detail (LOD)"
   ]
  },
  {
   "cell_type": "markdown",
   "id": "76c0f722",
   "metadata": {},
   "source": [
    "### 1.1 Fetch the large-scale dataset\n",
    "Flame dataset (1201x1201x1201 resolution in float32 numpy array format, flame_1201x1201x1201.npy), from https://drive.google.com/file/d/1fFB5LpRkiVJIZ47Ckc0VCGYM_M4EU3ZX/view?usp=sharing"
   ]
  },
  {
   "cell_type": "code",
   "execution_count": null,
   "id": "2030b860",
   "metadata": {
    "scrolled": false
   },
   "outputs": [],
   "source": [
    "a_load = np.load('flame_1201x1201x1201.npy')"
   ]
  },
  {
   "cell_type": "markdown",
   "id": "8d5b24df",
   "metadata": {},
   "source": [
    "### 1.2 Partition the input dataset and downsample into micro-blocks for each LOD"
   ]
  },
  {
   "cell_type": "markdown",
   "id": "8f717bdf",
   "metadata": {},
   "source": [
    "### Level 1: block size: 76x76x76; Number: 16x16x16"
   ]
  },
  {
   "cell_type": "code",
   "execution_count": null,
   "id": "bd2d9044",
   "metadata": {},
   "outputs": [],
   "source": [
    "edge_number = 16\n",
    "edge_size = 76\n",
    "for x in tqdm (range(edge_number), desc=\"Saving partitioned blocks...\"):\n",
    "    for y in range(edge_number):\n",
    "        for z in range(edge_number):\n",
    "            index = x*edge_number*edge_number + y*edge_number + z\n",
    "            x_start = x*75\n",
    "            x_end = x_start + 75\n",
    "            y_start = y*75\n",
    "            y_end = y_start + 75\n",
    "            z_start = z*75\n",
    "            z_end = z_start + 75\n",
    "            data = a_load[x_start:x_end + 1, y_start:y_end + 1, z_start:z_end + 1]\n",
    "            data = data.reshape(76*76*76,)\n",
    "            saveToMfaXyz(data, \"level_1_flame_downsampled/\" + str(index + 8 + 64 + 512) + \".xyz\")"
   ]
  },
  {
   "cell_type": "markdown",
   "id": "ff7ef2ac",
   "metadata": {},
   "source": [
    "### Level 2: block size: 151x151x151; Number: 8x8x8"
   ]
  },
  {
   "cell_type": "code",
   "execution_count": null,
   "id": "f816ccf4",
   "metadata": {},
   "outputs": [],
   "source": [
    "edge_number = 8\n",
    "edge_size = 151\n",
    "for x in tqdm (range(edge_number), desc=\"Saving partitioned blocks...\"):\n",
    "    for y in range(edge_number):\n",
    "        for z in range(edge_number):\n",
    "            index = x*edge_number*edge_number + y*edge_number + z\n",
    "            x_start = x*150\n",
    "            x_end = x_start + 150\n",
    "            y_start = y*150\n",
    "            y_end = y_start + 150\n",
    "            z_start = z*150\n",
    "            z_end = z_start + 150\n",
    "            data = a_load[x_start:x_end + 1, y_start:y_end + 1, z_start:z_end + 1][0:151:2, 0:151:2, 0:151:2]\n",
    "            data = data.reshape(76*76*76,)\n",
    "            saveToMfaXyz(data, \"level_2_flame_downsampled/\" + str(index + 8 + 64) + \".xyz\")"
   ]
  },
  {
   "cell_type": "markdown",
   "id": "a92d918f",
   "metadata": {},
   "source": [
    "### Level 3: block size: 301x301x301; Number: 4x4x4"
   ]
  },
  {
   "cell_type": "code",
   "execution_count": null,
   "id": "399b838c",
   "metadata": {},
   "outputs": [],
   "source": [
    "edge_number = 4\n",
    "edge_size = 301\n",
    "for x in tqdm (range(edge_number), desc=\"Saving partitioned blocks...\"):\n",
    "    for y in range(edge_number):\n",
    "        for z in range(edge_number):\n",
    "            index = x*edge_number*edge_number + y*edge_number + z\n",
    "            x_start = x*300\n",
    "            x_end = x_start + 300\n",
    "            y_start = y*300\n",
    "            y_end = y_start + 300\n",
    "            z_start = z*300\n",
    "            z_end = z_start + 300\n",
    "            data = a_load[x_start:x_end + 1, y_start:y_end + 1, z_start:z_end + 1][0:301:4, 0:301:4, 0:301:4]\n",
    "            data = data.reshape(76*76*76,)\n",
    "            saveToMfaXyz(data, \"level_3_flame_downsampled/\" + str(index + 8) + \".xyz\")"
   ]
  },
  {
   "cell_type": "markdown",
   "id": "d9f104c2",
   "metadata": {},
   "source": [
    "### Level 4: block size: 601x601x601; Number: 2x2x2"
   ]
  },
  {
   "cell_type": "code",
   "execution_count": null,
   "id": "011cfe8a",
   "metadata": {},
   "outputs": [],
   "source": [
    "edge_number = 2\n",
    "edge_size = 601\n",
    "for x in tqdm (range(edge_number), desc=\"Saving partitioned blocks...\"):\n",
    "    for y in range(edge_number):\n",
    "        for z in range(edge_number):\n",
    "            index = x*edge_number*edge_number + y*edge_number + z\n",
    "            x_start = x*600\n",
    "            x_end = x_start + 600\n",
    "            y_start = y*600\n",
    "            y_end = y_start + 600\n",
    "            z_start = z*600\n",
    "            z_end = z_start + 600\n",
    "            data = a_load[x_start:x_end + 1, y_start:y_end + 1, z_start:z_end + 1][0:601:8, 0:601:8, 0:601:8] # 76x76x76\n",
    "            data = data.reshape(76*76*76,)\n",
    "            saveToMfaXyz(data, \"level_4_flame_downsampled/\" + str(index) + \".xyz\")"
   ]
  },
  {
   "cell_type": "markdown",
   "id": "43fa387b",
   "metadata": {},
   "source": [
    "## 2. Apply Adaptive-FAM\n",
    "\n",
    "Encode each micro-block into micro-model with suitable number of control points (NCP) for given error bound which is set as 0.00001 of root mean square error (RMS). The functional approximation degree is set to 2."
   ]
  },
  {
   "cell_type": "code",
   "execution_count": null,
   "id": "a96e1be6",
   "metadata": {},
   "outputs": [],
   "source": [
    "encoder = '../../mfa_utility/build/src/fixed/fixed'"
   ]
  },
  {
   "cell_type": "code",
   "execution_count": null,
   "id": "a3c7b31a",
   "metadata": {},
   "outputs": [],
   "source": [
    "all_suitable_num_ctrlpts_lists = []"
   ]
  },
  {
   "cell_type": "markdown",
   "id": "76143b60",
   "metadata": {},
   "source": [
    "### 2.1 Do in-level encoding for the lowest LOD (Level 4). Only needs to handle 8 micro-blocks"
   ]
  },
  {
   "cell_type": "code",
   "execution_count": null,
   "id": "664f0d63",
   "metadata": {},
   "outputs": [],
   "source": [
    "# Do in-level encoding for all micro-blocks\n",
    "for m in tqdm (list(range(0,8,1))):\n",
    "    os.system('mkdir level_4/block_' + str(m))\n",
    "    for n in list(range(3,77,1)):\n",
    "        os.system(encoder + ' -m 3 -d 4 -f level_4_flame_downsampled/' + str(m) + \n",
    "                  '.xyz -i general -n 76 -v ' + str(n) + ' -q 2 >/dev/null 2>&1')\n",
    "        os.system('mv test.mfab level_4/block_' + str(m) + '/' + str(n) + '.mfab')\n",
    "        os.system('rm approx.out')\n",
    "    os.system('mv error.txt level_4/block_' + str(m))"
   ]
  },
  {
   "cell_type": "code",
   "execution_count": null,
   "id": "be1d5a2a",
   "metadata": {},
   "outputs": [],
   "source": [
    "# Collect errors resulting from in-level encoding for each micro-block\n",
    "block_idx = list(range(0,8,1))\n",
    "error_list = []\n",
    "for i in block_idx:\n",
    "    file1 = open('level_4/block_' + str(i) + '/error.txt', 'r')\n",
    "    Lines = file1.readlines()\n",
    "    count = 0\n",
    "    error = []\n",
    "    num_ctrlpts = []\n",
    "    for line in Lines:\n",
    "        num_ctrlpts.append(count + 3)\n",
    "        count += 1\n",
    "        line = line[:-1]\n",
    "        error.append(float(line))\n",
    "    error_list.append(error)\n",
    "    file1.close()\n",
    "\n",
    "# Find complex micro-blocks\n",
    "suitable_num_ctrlpts_list = getSuitableNumOfCtrlpts(error_list, num_ctrlpts, 0.00001)\n",
    "complex_mb_ctrlpts_list = [] # only list number of control points > 3, 3 is the minimal for degree 2\n",
    "complex_mb_index_list = []\n",
    "simple_mb_index_list = []\n",
    "for i in range(len(suitable_num_ctrlpts_list)):\n",
    "    if (suitable_num_ctrlpts_list[i] > 3):\n",
    "        complex_mb_ctrlpts_list.append(suitable_num_ctrlpts_list[i])\n",
    "        complex_mb_index_list.append(i)\n",
    "    else:\n",
    "        simple_mb_index_list.append(i)\n",
    "    \n",
    "print(\"Level 4 complex micro-blocks index: \", complex_mb_index_list)\n",
    "print(\"Level 4 simple micro-blocks index: \", simple_mb_index_list)"
   ]
  },
  {
   "cell_type": "code",
   "execution_count": null,
   "id": "77133280",
   "metadata": {},
   "outputs": [],
   "source": [
    "all_suitable_num_ctrlpts_lists.append(suitable_num_ctrlpts_list)"
   ]
  },
  {
   "cell_type": "markdown",
   "id": "9dc97a07",
   "metadata": {},
   "source": [
    "### 2.2 Do cross-level encoding for the rest level with higher LOD (Level 3, 2, 1)"
   ]
  },
  {
   "cell_type": "markdown",
   "id": "0e8677ff",
   "metadata": {},
   "source": [
    "### Level 3"
   ]
  },
  {
   "cell_type": "code",
   "execution_count": null,
   "id": "bc1924e4",
   "metadata": {},
   "outputs": [],
   "source": [
    "# find indices of all micro-block in level 3 covered by complex blocks in level 4\n",
    "next_level_complex_mb_index_list = getComplexMicroBlockIndices(complex_mb_index_list, 2, 0, 8)"
   ]
  },
  {
   "cell_type": "code",
   "execution_count": null,
   "id": "9788e108",
   "metadata": {},
   "outputs": [],
   "source": [
    "# Do in-level encoding only for complex micro-blocks\n",
    "for m in tqdm (next_level_complex_mb_index_list):\n",
    "    os.system('mkdir level_3/block_' + str(m))\n",
    "    for n in list(range(3,77,1)):\n",
    "        os.system(encoder + ' -m 3 -d 4 -f level_3_flame_downsampled/' + str(m) + \n",
    "                  '.xyz -i general -n 76 -v ' + str(n) + ' -q 2 >/dev/null 2>&1')\n",
    "        os.system('mv test.mfab level_3/block_' + str(m) + '/' + str(n) + '.mfab')\n",
    "        os.system('rm approx.out')\n",
    "    os.system('mv error.txt level_3/block_' + str(m))"
   ]
  },
  {
   "cell_type": "code",
   "execution_count": null,
   "id": "c1924b76",
   "metadata": {
    "scrolled": false
   },
   "outputs": [],
   "source": [
    "# Collect errors resulting from in-level encoding for each complex micro-block\n",
    "block_idx = next_level_complex_mb_index_list\n",
    "error_list = []\n",
    "for i in block_idx:\n",
    "    file1 = open('level_3/block_' + str(i) + '/error.txt', 'r')\n",
    "    Lines = file1.readlines()\n",
    "    count = 0\n",
    "    error = []\n",
    "    num_ctrlpts = []\n",
    "    for line in Lines:\n",
    "        num_ctrlpts.append(count + 3)\n",
    "        count += 1\n",
    "        line = line[:-1]\n",
    "        error.append(float(line))\n",
    "    error_list.append(error)\n",
    "    file1.close()\n",
    "\n",
    "# Find complex micro-blocks\n",
    "suitable_num_ctrlpts_list = getSuitableNumOfCtrlpts(error_list, num_ctrlpts, 0.00001)\n",
    "complex_mb_ctrlpts_list = [] # only list number of control points > 3, 3 is the minimal for degree 2\n",
    "complex_mb_index_list = []\n",
    "simple_mb_index_list = []\n",
    "for i in range(len(suitable_num_ctrlpts_list)):\n",
    "    if (suitable_num_ctrlpts_list[i] > 3):\n",
    "        complex_mb_ctrlpts_list.append(suitable_num_ctrlpts_list[i])\n",
    "        complex_mb_index_list.append(i + 8)\n",
    "    else:\n",
    "        simple_mb_index_list.append(i + 8)\n",
    "    \n",
    "print(\"Level 3 complex micro-blocks index: \", complex_mb_index_list)\n",
    "print(\"Level 3 simple micro-blocks index: \", simple_mb_index_list)"
   ]
  },
  {
   "cell_type": "code",
   "execution_count": null,
   "id": "3549627d",
   "metadata": {},
   "outputs": [],
   "source": [
    "all_suitable_num_ctrlpts_lists.append(suitable_num_ctrlpts_list)"
   ]
  },
  {
   "cell_type": "markdown",
   "id": "042d5b8e",
   "metadata": {},
   "source": [
    "### Level 2"
   ]
  },
  {
   "cell_type": "code",
   "execution_count": null,
   "id": "97b4b195",
   "metadata": {},
   "outputs": [],
   "source": [
    "# find indices of all micro-block in level 2 covered by complex blocks in level 3\n",
    "next_level_complex_mb_index_list = getComplexMicroBlockIndices(complex_mb_index_list, 4, 8, 8 + 64)"
   ]
  },
  {
   "cell_type": "code",
   "execution_count": null,
   "id": "c9843773",
   "metadata": {},
   "outputs": [],
   "source": [
    "# find indices of all micro-block in level 2 not covered by complex blocks in level 3\n",
    "total_blocks = list(range(72,584,1))\n",
    "next_level_simple_mb_index_list = []\n",
    "for i in range(len(total_blocks)):\n",
    "    if (total_blocks[i] not in next_level_complex_mb_index_list):\n",
    "        next_level_simple_mb_index_list.append(total_blocks[i])"
   ]
  },
  {
   "cell_type": "code",
   "execution_count": null,
   "id": "2e56002d",
   "metadata": {
    "scrolled": true
   },
   "outputs": [],
   "source": [
    "# Do in-level encoding only for complex micro-blocks\n",
    "for m in tqdm (next_level_complex_mb_index_list):\n",
    "    os.system('mkdir level_2/block_' + str(m))\n",
    "    for n in list(range(3,77,1)):\n",
    "        os.system(encoder + ' -m 3 -d 4 -f level_2_flame_downsampled/' + str(m) + \n",
    "                  '.xyz -i general -n 76 -v ' + str(n) + ' -q 2 >/dev/null 2>&1')\n",
    "        os.system('mv test.mfab level_2/block_' + str(m) + '/' + str(n) + '.mfab')\n",
    "        os.system('rm approx.out')\n",
    "    os.system('mv error.txt level_2/block_' + str(m))"
   ]
  },
  {
   "cell_type": "code",
   "execution_count": null,
   "id": "0c705641",
   "metadata": {},
   "outputs": [],
   "source": [
    "# Do encoding for all simple micro-blocks\n",
    "for m in tqdm (next_level_simple_mb_index_list):\n",
    "    os.system('mkdir level_2/block_' + str(m))\n",
    "    os.system(encoder + ' -m 3 -d 4 -f level_2_flame_downsampled/' + str(m) + \n",
    "              '.xyz -i general -n 76 -v 3 -q 2 >/dev/null 2>&1')\n",
    "    os.system('mv test.mfab level_2/block_' + str(m) + '/3.mfab')\n",
    "    os.system('rm approx.out')\n",
    "os.system('rm error.txt')"
   ]
  },
  {
   "cell_type": "code",
   "execution_count": null,
   "id": "7175fd61",
   "metadata": {
    "scrolled": true
   },
   "outputs": [],
   "source": [
    "# Collect errors resulting from in-level encoding for each complex micro-block\n",
    "block_idx = next_level_complex_mb_index_list\n",
    "error_list = []\n",
    "for i in block_idx:\n",
    "    file1 = open('level_2/block_' + str(i) + '/error.txt', 'r')\n",
    "    Lines = file1.readlines()\n",
    "    count = 0\n",
    "    error = []\n",
    "    num_ctrlpts = []\n",
    "    for line in Lines:\n",
    "        num_ctrlpts.append(count + 3)\n",
    "        count += 1\n",
    "        line = line[:-1]\n",
    "        error.append(float(line))\n",
    "    error_list.append(error)\n",
    "    file1.close()\n",
    "\n",
    "# Find complex micro-blocks\n",
    "suitable_num_ctrlpts_list = getSuitableNumOfCtrlpts(error_list, num_ctrlpts, 0.00001)\n",
    "complex_mb_ctrlpts_list = [] # only list number of control points > 3, 3 is the minimal for degree 2\n",
    "complex_mb_index_list = []\n",
    "for i in range(len(suitable_num_ctrlpts_list)):\n",
    "    if (suitable_num_ctrlpts_list[i] > 3):\n",
    "        complex_mb_ctrlpts_list.append(suitable_num_ctrlpts_list[i])\n",
    "        complex_mb_index_list.append(next_level_complex_mb_index_list[i])\n",
    "\n",
    "total_blocks = list(range(72,584,1))\n",
    "simple_mb_index_list = []\n",
    "for i in range(len(total_blocks)):\n",
    "    if (total_blocks[i] not in complex_mb_index_list):\n",
    "        simple_mb_index_list.append(total_blocks[i])\n",
    "    \n",
    "print(\"Level 2 complex micro-blocks index: \", complex_mb_index_list)\n",
    "print(\"Level 2 simple micro-blocks index: \", simple_mb_index_list)"
   ]
  },
  {
   "cell_type": "code",
   "execution_count": null,
   "id": "eac71ab3",
   "metadata": {},
   "outputs": [],
   "source": [
    "total_blocks = list(range(72,584,1))\n",
    "all_suitable_num_ctrlpts_list = []\n",
    "for i in range(len(total_blocks)):\n",
    "    if (total_blocks[i] in next_level_complex_mb_index_list):\n",
    "        for j in range(len(next_level_complex_mb_index_list)):\n",
    "            if (total_blocks[i] == next_level_complex_mb_index_list[j]):\n",
    "                all_suitable_num_ctrlpts_list.append(suitable_num_ctrlpts_list[j])\n",
    "                break\n",
    "    else:\n",
    "        all_suitable_num_ctrlpts_list.append(3)\n",
    "        \n",
    "all_suitable_num_ctrlpts_lists.append(all_suitable_num_ctrlpts_list)"
   ]
  },
  {
   "cell_type": "markdown",
   "id": "6b6d05e3",
   "metadata": {},
   "source": [
    "### Level 1"
   ]
  },
  {
   "cell_type": "code",
   "execution_count": null,
   "id": "7c1db347",
   "metadata": {},
   "outputs": [],
   "source": [
    "# find indices of all micro-block in level 1 covered by complex blocks in level 2\n",
    "next_level_complex_mb_index_list = getComplexMicroBlockIndices(complex_mb_index_list, 8, 8 + 64, 8 + 64 + 512)"
   ]
  },
  {
   "cell_type": "code",
   "execution_count": null,
   "id": "d7f899ae",
   "metadata": {},
   "outputs": [],
   "source": [
    "# find indices of all micro-block in level 1 not covered by complex blocks in level 2\n",
    "total_blocks = list(range(584,4680,1))\n",
    "next_level_simple_mb_index_list = []\n",
    "for i in range(len(total_blocks)):\n",
    "    if (total_blocks[i] not in next_level_complex_mb_index_list):\n",
    "        next_level_simple_mb_index_list.append(total_blocks[i])"
   ]
  },
  {
   "cell_type": "code",
   "execution_count": null,
   "id": "a648d23a",
   "metadata": {},
   "outputs": [],
   "source": [
    "# Do in-level encoding only for complex micro-blocks\n",
    "for m in tqdm (next_level_complex_mb_index_list):\n",
    "    os.system('mkdir level_1/block_' + str(m))\n",
    "    for n in list(range(3,77,1)):\n",
    "        os.system(encoder + ' -m 3 -d 4 -f level_1_flame_downsampled/' + str(m) + \n",
    "                  '.xyz -i general -n 76 -v ' + str(n) + ' -q 2 >/dev/null 2>&1')\n",
    "        os.system('mv test.mfab level_1/block_' + str(m) + '/' + str(n) + '.mfab')\n",
    "        os.system('rm approx.out')\n",
    "    os.system('mv error.txt level_1/block_' + str(m))"
   ]
  },
  {
   "cell_type": "code",
   "execution_count": null,
   "id": "eb1c7cf0",
   "metadata": {},
   "outputs": [],
   "source": [
    "# Do encoding for all simple micro-blocks\n",
    "for m in tqdm (next_level_simple_mb_index_list):\n",
    "    os.system('mkdir level_1/block_' + str(m))\n",
    "    os.system(encoder + ' -m 3 -d 4 -f level_1_flame_downsampled/' + str(m) + \n",
    "              '.xyz -i general -n 76 -v 3 -q 2 >/dev/null 2>&1')\n",
    "    os.system('mv test.mfab level_1/block_' + str(m) + '/3.mfab')\n",
    "    os.system('rm approx.out')\n",
    "os.system('rm error.txt')"
   ]
  },
  {
   "cell_type": "code",
   "execution_count": null,
   "id": "894ca961",
   "metadata": {},
   "outputs": [],
   "source": [
    "# Collect errors resulting from in-level encoding for each complex micro-block\n",
    "block_idx = next_level_complex_mb_index_list\n",
    "error_list = []\n",
    "for i in block_idx:\n",
    "    file1 = open('level_1/block_' + str(i) + '/error.txt', 'r')\n",
    "    Lines = file1.readlines()\n",
    "    count = 0\n",
    "    error = []\n",
    "    num_ctrlpts = []\n",
    "    for line in Lines:\n",
    "        num_ctrlpts.append(count + 3)\n",
    "        count += 1\n",
    "        line = line[:-1]\n",
    "        error.append(float(line))\n",
    "    error_list.append(error)\n",
    "    file1.close()\n",
    "\n",
    "# Find complex micro-blocks\n",
    "suitable_num_ctrlpts_list = getSuitableNumOfCtrlpts(error_list, num_ctrlpts, 0.00001)\n",
    "complex_mb_ctrlpts_list = [] # only list number of control points > 3, 3 is the minimal for degree 2\n",
    "complex_mb_index_list = []\n",
    "for i in range(len(suitable_num_ctrlpts_list)):\n",
    "    if (suitable_num_ctrlpts_list[i] > 3):\n",
    "        complex_mb_ctrlpts_list.append(suitable_num_ctrlpts_list[i])\n",
    "        complex_mb_index_list.append(next_level_complex_mb_index_list[i])\n",
    "\n",
    "total_blocks = list(range(584,4680,1))\n",
    "simple_mb_index_list = []\n",
    "for i in range(len(total_blocks)):\n",
    "    if (total_blocks[i] not in complex_mb_index_list):\n",
    "        simple_mb_index_list.append(total_blocks[i])\n",
    "    \n",
    "print(\"Level 1 complex micro-blocks index: \", complex_mb_index_list)\n",
    "print(\"Level 1 simple micro-blocks index: \", simple_mb_index_list)"
   ]
  },
  {
   "cell_type": "code",
   "execution_count": null,
   "id": "a4126d17",
   "metadata": {},
   "outputs": [],
   "source": [
    "total_blocks = list(range(584,4680,1))\n",
    "all_suitable_num_ctrlpts_list = []\n",
    "for i in range(len(total_blocks)):\n",
    "    if (total_blocks[i] in next_level_complex_mb_index_list):\n",
    "        for j in range(len(next_level_complex_mb_index_list)):\n",
    "            if (total_blocks[i] == next_level_complex_mb_index_list[j]):\n",
    "                all_suitable_num_ctrlpts_list.append(suitable_num_ctrlpts_list[j])\n",
    "                break\n",
    "    else:\n",
    "        all_suitable_num_ctrlpts_list.append(3)\n",
    "        \n",
    "all_suitable_num_ctrlpts_lists.append(all_suitable_num_ctrlpts_list)"
   ]
  },
  {
   "cell_type": "markdown",
   "id": "672bcf5a",
   "metadata": {},
   "source": [
    "### 2.3 Collect all the micro-models of all 4 levels with suitable NCP into one folder as inputs to renderer"
   ]
  },
  {
   "cell_type": "code",
   "execution_count": null,
   "id": "84795eb0",
   "metadata": {},
   "outputs": [],
   "source": [
    "# put correct mfab blocks to the folder \"data_flame_adaptive\"\n",
    "# level 4\n",
    "for i in range(len(all_suitable_num_ctrlpts_lists[0])):\n",
    "    shutil.copyfile('level_4/block_' + str(i) + '/' + str(all_suitable_num_ctrlpts_lists[0][i]) + '.mfab', \\\n",
    "                    'data_flame_adaptive/' + str(i) + '.mfab')"
   ]
  },
  {
   "cell_type": "code",
   "execution_count": null,
   "id": "e877c827",
   "metadata": {},
   "outputs": [],
   "source": [
    "# level 3\n",
    "for i in range(len(all_suitable_num_ctrlpts_lists[1])):\n",
    "    shutil.copyfile('level_3/block_' + str(i + 8) + '/' + str(all_suitable_num_ctrlpts_lists[1][i]) + '.mfab', \\\n",
    "                    'data_flame_adaptive/' + str(i + 8) + '.mfab')"
   ]
  },
  {
   "cell_type": "code",
   "execution_count": null,
   "id": "ee463129",
   "metadata": {},
   "outputs": [],
   "source": [
    "# level 2\n",
    "for i in range(len(all_suitable_num_ctrlpts_lists[2])):\n",
    "    shutil.copyfile('level_2/block_' + str(i + 8 + 64) + '/' + str(all_suitable_num_ctrlpts_lists[2][i]) + '.mfab', \\\n",
    "                    'data_flame_adaptive/' + str(i + 8 + 64) + '.mfab')"
   ]
  },
  {
   "cell_type": "code",
   "execution_count": null,
   "id": "5d3b55cb",
   "metadata": {},
   "outputs": [],
   "source": [
    "# level 1\n",
    "for i in range(len(all_suitable_num_ctrlpts_lists[3])):\n",
    "    shutil.copyfile('level_1/block_' + str(i + 8 + 64 + 512) + '/' + str(all_suitable_num_ctrlpts_lists[3][i]) + '.mfab', \\\n",
    "                    'data_flame_adaptive/' + str(i + 8 + 64 + 512) + '.mfab')"
   ]
  }
 ],
 "metadata": {
  "kernelspec": {
   "display_name": "Python 3 (ipykernel)",
   "language": "python",
   "name": "python3"
  },
  "language_info": {
   "codemirror_mode": {
    "name": "ipython",
    "version": 3
   },
   "file_extension": ".py",
   "mimetype": "text/x-python",
   "name": "python",
   "nbconvert_exporter": "python",
   "pygments_lexer": "ipython3",
   "version": "3.7.3"
  }
 },
 "nbformat": 4,
 "nbformat_minor": 5
}
