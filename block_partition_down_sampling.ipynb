{
 "cells": [
  {
   "cell_type": "code",
   "execution_count": null,
   "id": "e8d4e84d",
   "metadata": {},
   "outputs": [],
   "source": [
    "import numpy as np\n",
    "from array import array\n",
    "import math\n",
    "from tqdm import tqdm"
   ]
  },
  {
   "cell_type": "code",
   "execution_count": null,
   "id": "78197b90",
   "metadata": {},
   "outputs": [],
   "source": [
    "data = np.load('flame_1201x1201x1201.npy')"
   ]
  },
  {
   "cell_type": "code",
   "execution_count": null,
   "id": "66178807",
   "metadata": {},
   "outputs": [],
   "source": [
    "# Padding from to 1201x1201x1201 to 1202x1202x1202\n",
    "dataPadding = np.zeros((1202, 1202, 1202), dtype=np.float32)\n",
    "dataPadding[:1201, :1201, :1201] = data"
   ]
  },
  {
   "cell_type": "markdown",
   "id": "5a29369d",
   "metadata": {},
   "source": [
    "# Padding to Cube"
   ]
  },
  {
   "cell_type": "code",
   "execution_count": null,
   "id": "59180e59",
   "metadata": {},
   "outputs": [],
   "source": [
    "dataPadding[1201, :1201, :1201] = data[1200, :, :]\n",
    "dataPadding[:1201, 1201, :1201] = data[:, 1200, :]\n",
    "dataPadding[:1201, :1201, 1201] = data[:, :, 1200]\n",
    "dataPadding[1201, 1201, 1201] = dataPadding[1201, 1201, 1200]"
   ]
  },
  {
   "cell_type": "markdown",
   "id": "5d1febb7",
   "metadata": {},
   "source": [
    "## Partition\n",
    "|             | Level 1 (far)    | Level 2          | Level 3         | Level 4         |\n",
    "| ----------- | -----------      | -----------      | -----------     | -----------     |\n",
    "| x           | 2x2x2            | 4x4x4            | 8x8x8           | 16x16x16        |"
   ]
  },
  {
   "cell_type": "code",
   "execution_count": null,
   "id": "4b64c365",
   "metadata": {},
   "outputs": [],
   "source": [
    "# Partition the input volume into micro-blocks with ghost area (one extra sample on the boundary) for each level of detail\n",
    "def partitionVolume(path, data, xSize, ySize, zSize, xBlockNum, yBlockNum, zBlockNum, xBlockSize, yBlockSize, zBlockSize, blockIndexShift):\n",
    "    print(\"Input volume size:\", data.shape) # 1201x1201x1201\n",
    "    xSkip = int(16/xBlockNum) # 8/4/2/16\n",
    "    ySkip = int(16/yBlockNum) # 8/4\n",
    "    zSkip = int(16/zBlockNum) # 8/4\n",
    "    dataNew = data[0:xSize:xSkip, 0:ySize:ySkip, 0:zSize:zSkip] # 151x151x151 / 301x301x301\n",
    "    xSize, ySize, zSize = dataNew.shape\n",
    "    print(xSize, ySize, zSize)\n",
    "    dataNewNew = np.zeros((xSize + 1, ySize + 1, zSize + 1)) # 152x152x152\n",
    "    dataNewNew[0:xSize, 0:ySize, 0:zSize] = dataNew\n",
    "    dataNewNew[xSize, :, :] = dataNewNew[xSize - 1, :, :]\n",
    "    dataNewNew[:, ySize, :] = dataNewNew[:, ySize - 1, :]\n",
    "    dataNewNew[:, :, zSize] = dataNewNew[:, :, zSize - 1]\n",
    "    print(\"Down-sampled volume size:\", dataNew.shape)\n",
    "    print(\"intermiddle volume size:\", dataNewNew.shape)\n",
    "    print(\"Down-sampled max: \", np.max(dataNew))\n",
    "    \n",
    "    xstep = xBlockSize - 2 # 77 - 2 = 75\n",
    "    ystep = yBlockSize - 2 # 77 - 2 = 75\n",
    "    zstep = zBlockSize - 2 # 77 - 2 = 75\n",
    "    \n",
    "    blocks = []\n",
    "    for x in tqdm(range(zBlockNum)): # 2/4\n",
    "        for y in range(yBlockNum): # 2/4\n",
    "            for z in range(xBlockNum): # 2/4\n",
    "                xStart = x*xstep           # 0   # 75\n",
    "                xEnd = xStart + xstep + 2  # 77  # 152\n",
    "                yStart = y*ystep\n",
    "                yEnd = yStart + ystep + 2\n",
    "                zStart = z*zstep\n",
    "                zEnd = zStart + zstep + 2\n",
    "                block = dataNewNew[xStart:xEnd, yStart:yEnd, zStart:zEnd]\n",
    "                blocks.append(block)\n",
    "\n",
    "    # save blocks to storage\n",
    "    for i in tqdm(range(len(blocks))):\n",
    "        fileName = path + \"/\" + str(i + blockIndexShift) + \".blk\"\n",
    "        f = open(fileName, \"wb\")\n",
    "        dataList = blocks[i].flatten().tolist()\n",
    "        array(\"f\", dataList).tofile(f)\n",
    "    print(\"Done...\")\n",
    "    return blocks"
   ]
  },
  {
   "cell_type": "code",
   "execution_count": null,
   "id": "d2d18629",
   "metadata": {
    "scrolled": true
   },
   "outputs": [],
   "source": [
    "blocks = partitionVolume(\"data_blocks_flame\", data, 1201, 1201, 1201, 2, 2, 2, 77, 77, 77, 0)"
   ]
  },
  {
   "cell_type": "code",
   "execution_count": null,
   "id": "9795a1a1",
   "metadata": {},
   "outputs": [],
   "source": [
    "blocks = partitionVolume(\"data_blocks_flame\", data, 1201, 1201, 1201, 4, 4, 4, 77, 77, 77, 8)"
   ]
  },
  {
   "cell_type": "code",
   "execution_count": null,
   "id": "b4cc9795",
   "metadata": {},
   "outputs": [],
   "source": [
    "blocks = partitionVolume(\"data_blocks_flame\", data, 1201, 1201, 1201, 8, 8, 8, 77, 77, 77, 8 + 64)"
   ]
  },
  {
   "cell_type": "code",
   "execution_count": null,
   "id": "de503475",
   "metadata": {
    "scrolled": true
   },
   "outputs": [],
   "source": [
    "blocks = partitionVolume(\"data_blocks_flame\", data, 1201, 1201, 1201, 16, 16, 16, 77, 77, 77, 8 + 64 + 512)"
   ]
  }
 ],
 "metadata": {
  "kernelspec": {
   "display_name": "Python 3 (ipykernel)",
   "language": "python",
   "name": "python3"
  },
  "language_info": {
   "codemirror_mode": {
    "name": "ipython",
    "version": 3
   },
   "file_extension": ".py",
   "mimetype": "text/x-python",
   "name": "python",
   "nbconvert_exporter": "python",
   "pygments_lexer": "ipython3",
   "version": "3.7.3"
  }
 },
 "nbformat": 4,
 "nbformat_minor": 5
}
